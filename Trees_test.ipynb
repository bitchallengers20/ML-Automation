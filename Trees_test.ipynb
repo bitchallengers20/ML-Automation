{
  "nbformat": 4,
  "nbformat_minor": 0,
  "metadata": {
    "colab": {
      "provenance": [],
      "collapsed_sections": []
    },
    "kernelspec": {
      "name": "python3",
      "display_name": "Python 3"
    },
    "language_info": {
      "name": "python"
    }
  },
  "cells": [
    {
      "cell_type": "code",
      "source": [
        "import pandas as pd\n",
        "import numpy as np\n",
        "from sklearn.model_selection import train_test_split\n",
        "from sklearn.tree import DecisionTreeClassifier\n",
        "from sklearn.ensemble import RandomForestClassifier\n",
        "from sklearn.metrics import classification_report,confusion_matrix"
      ],
      "metadata": {
        "id": "KN5k9cDnHKI3"
      },
      "execution_count": null,
      "outputs": []
    },
    {
      "cell_type": "code",
      "execution_count": null,
      "metadata": {
        "id": "xhyn4mYJHEoi"
      },
      "outputs": [],
      "source": [
        "def tree(f,tr):\n",
        "  df=pd.read_csv(f)\n",
        "  dfsize=df.shape[0]\n",
        "  rlist=[]\n",
        "  mlist=[]\n",
        "  rclist=[]\n",
        "  mclist=[]\n",
        "  x=[]\n",
        "  y=[]\n",
        "  rval=False\n",
        "  mval=False\n",
        "  c=dfsize/10\n",
        "  #seperating values\n",
        "  for i in df.columns:\n",
        "      if df[i].dtype==int or df[i].dtype==np.int64 or df[i].dtype==np.int32 or df[i].dtype==float or df[i].dtype==np.double:\n",
        "          rlist.append(i)\n",
        "      else:\n",
        "          mlist.append(i)\n",
        "\n",
        "  #rlist\n",
        "  for j in rlist:\n",
        "      rulist=list(df[j].unique())\n",
        "      rtlist=[]\n",
        "      for r in rulist:\n",
        "          count=0\n",
        "          for k in df[j].values:\n",
        "              if r==k:\n",
        "                  count=count+1\n",
        "          rtlist.append(count)\n",
        "      rclist.append(rtlist)\n",
        "\n",
        "  #mlist\n",
        "  for a in mlist:\n",
        "      mulist=list(df[a].unique())\n",
        "      mtlist=[]\n",
        "      for m in mulist:\n",
        "          count1=0\n",
        "          for b in df[a].values:\n",
        "              if m==b:\n",
        "                  count1=count1+1\n",
        "          mtlist.append(count1)\n",
        "      mclist.append(mtlist)\n",
        "\n",
        "\n",
        "  for g in range(len(mclist)):\n",
        "      cnt=0\n",
        "      for nm in mclist[g]:\n",
        "          if nm>=c:\n",
        "              cnt+=1\n",
        "      if cnt>1:    \n",
        "          ind1=g\n",
        "          mval=True\n",
        "          break\n",
        "\n",
        "  for e in range(len(rclist)):\n",
        "      cnt=0\n",
        "      for num in rclist[e]:\n",
        "          if num>=c:\n",
        "              cnt+=1\n",
        "      if cnt>1:    \n",
        "          ind=e\n",
        "          rval=True\n",
        "          break\n",
        "\n",
        "  if mval==True:\n",
        "      y=df[mlist[ind1]]\n",
        "      x=df.drop(mlist[ind1],axis=1)\n",
        "  elif rval==True and mval==False:\n",
        "      y=df[rlist[ind]]\n",
        "      x=df.drop(rlist[ind],axis=1)\n",
        "  else:\n",
        "    return '0','0'\n",
        "\n",
        "  X_train, X_test, y_train, y_test = train_test_split(x, y, test_size=0.40)\n",
        "  if tr==True:\n",
        "    dtree = DecisionTreeClassifier()\n",
        "    dtree.fit(X_train,y_train)\n",
        "\n",
        "    predictions = dtree.predict(X_test)\n",
        "    res=classification_report(y_test,predictions)\n",
        "    conf_mat=confusion_matrix(y_test,predictions)\n",
        "  else:\n",
        "    rfc = RandomForestClassifier(n_estimators=100)\n",
        "    rfc.fit(X_train, y_train)\n",
        "    rfc_pred = rfc.predict(X_test)\n",
        "    res=classification_report(y_test,rfc_pred)\n",
        "    conf_mat=confusion_matrix(y_test,rfc_pred)\n",
        "  return str(res), str(conf_mat)"
      ]
    },
    {
      "cell_type": "code",
      "source": [
        "!pip install -q gradio"
      ],
      "metadata": {
        "id": "c9XTzBWJLV3k",
        "colab": {
          "base_uri": "https://localhost:8080/"
        },
        "outputId": "59f01f47-149d-4322-c28c-96bae7459ee1"
      },
      "execution_count": null,
      "outputs": [
        {
          "output_type": "stream",
          "name": "stdout",
          "text": [
            "\u001b[K     |████████████████████████████████| 5.6 MB 5.2 MB/s \n",
            "\u001b[K     |████████████████████████████████| 141 kB 60.0 MB/s \n",
            "\u001b[K     |████████████████████████████████| 57 kB 4.9 MB/s \n",
            "\u001b[K     |████████████████████████████████| 2.3 MB 36.5 MB/s \n",
            "\u001b[K     |████████████████████████████████| 54 kB 3.1 MB/s \n",
            "\u001b[K     |████████████████████████████████| 84 kB 3.6 MB/s \n",
            "\u001b[K     |████████████████████████████████| 54 kB 3.1 MB/s \n",
            "\u001b[K     |████████████████████████████████| 84 kB 3.7 MB/s \n",
            "\u001b[K     |████████████████████████████████| 212 kB 60.5 MB/s \n",
            "\u001b[K     |████████████████████████████████| 275 kB 63.4 MB/s \n",
            "\u001b[K     |████████████████████████████████| 63 kB 2.0 MB/s \n",
            "\u001b[K     |████████████████████████████████| 80 kB 9.4 MB/s \n",
            "\u001b[K     |████████████████████████████████| 68 kB 6.8 MB/s \n",
            "\u001b[K     |████████████████████████████████| 43 kB 2.2 MB/s \n",
            "\u001b[K     |████████████████████████████████| 62 kB 1.0 MB/s \n",
            "\u001b[K     |████████████████████████████████| 856 kB 60.3 MB/s \n",
            "\u001b[K     |████████████████████████████████| 4.1 MB 49.6 MB/s \n",
            "\u001b[?25h  Building wheel for ffmpy (setup.py) ... \u001b[?25l\u001b[?25hdone\n",
            "  Building wheel for python-multipart (setup.py) ... \u001b[?25l\u001b[?25hdone\n"
          ]
        }
      ]
    },
    {
      "cell_type": "code",
      "source": [
        "import gradio as gr\n",
        "def dtree(file,ck):\n",
        "  if ck==\"Decision Tree\":\n",
        "    res,conf_mat=tree(file.name,True)\n",
        "  else:\n",
        "    res,conf_mat=tree(file.name,False)\n",
        "  return \"RMSE:\"+res+\"\\nR-SQUARED:\"+conf_mat\n",
        "inp=gr.inputs.CheckboxGroup([\"Decision tree\",\"Random forest\"])\n",
        "inf=gr.Interface(dtree,inputs=[\"file\",inp],outputs=\"text\",capture_session=True)\n",
        "inf.launch(share=True)"
      ],
      "metadata": {
        "colab": {
          "base_uri": "https://localhost:8080/",
          "height": 767
        },
        "id": "hmtpEDieLeiw",
        "outputId": "5d92b9f7-e68d-44b7-bda9-cf42cc8ea2dc"
      },
      "execution_count": null,
      "outputs": [
        {
          "output_type": "stream",
          "name": "stderr",
          "text": [
            "/usr/local/lib/python3.7/dist-packages/gradio/inputs.py:149: UserWarning: Usage of gradio.inputs is deprecated, and will not be supported in the future, please import your component from gradio.components\n",
            "  \"Usage of gradio.inputs is deprecated, and will not be supported in the future, please import your component from gradio.components\",\n",
            "/usr/local/lib/python3.7/dist-packages/gradio/deprecation.py:40: UserWarning: `optional` parameter is deprecated, and it has no effect\n",
            "  warnings.warn(value)\n",
            "/usr/local/lib/python3.7/dist-packages/gradio/deprecation.py:40: UserWarning: `capture_session` parameter is deprecated, and it has no effect\n",
            "  warnings.warn(value)\n"
          ]
        },
        {
          "output_type": "stream",
          "name": "stdout",
          "text": [
            "Colab notebook detected. To show errors in colab notebook, set `debug=True` in `launch()`\n",
            "Running on public URL: https://41626.gradio.app\n",
            "\n",
            "This share link expires in 72 hours. For free permanent hosting, check out Spaces: https://huggingface.co/spaces\n"
          ]
        },
        {
          "output_type": "display_data",
          "data": {
            "text/plain": [
              "<IPython.core.display.HTML object>"
            ],
            "text/html": [
              "<div><iframe src=\"https://41626.gradio.app\" width=\"900\" height=\"500\" allow=\"autoplay; camera; microphone;\" frameborder=\"0\" allowfullscreen></iframe></div>"
            ]
          },
          "metadata": {}
        },
        {
          "output_type": "execute_result",
          "data": {
            "text/plain": [
              "(<gradio.routes.App at 0x7f6c7e181c50>,\n",
              " 'http://127.0.0.1:7860/',\n",
              " 'https://41626.gradio.app')"
            ]
          },
          "metadata": {},
          "execution_count": 4
        }
      ]
    }
  ]
}